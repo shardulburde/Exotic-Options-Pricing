{
  "nbformat": 4,
  "nbformat_minor": 0,
  "metadata": {
    "colab": {
      "name": "DigitalOptions",
      "provenance": [],
      "authorship_tag": "ABX9TyOKn71a8AGAQXTxI/gVnxcQ",
      "include_colab_link": true
    },
    "kernelspec": {
      "name": "python3",
      "display_name": "Python 3"
    },
    "language_info": {
      "name": "python"
    }
  },
  "cells": [
    {
      "cell_type": "markdown",
      "metadata": {
        "id": "view-in-github",
        "colab_type": "text"
      },
      "source": [
        "<a href=\"https://colab.research.google.com/github/shardulburde/Exotic-Options-Pricing/blob/main/DigitalOptions.ipynb\" target=\"_parent\"><img src=\"https://colab.research.google.com/assets/colab-badge.svg\" alt=\"Open In Colab\"/></a>"
      ]
    },
    {
      "cell_type": "code",
      "metadata": {
        "id": "jE1cKrNBzCmN"
      },
      "source": [
        "import numpy as np\n",
        "import math\n",
        "\n",
        "def Dig(strike, spot, tenor, INRr, USDr, vol, t, numsim, fix):\n",
        "  \n",
        "  \n",
        "  rate = np.log(1+(INRr)-(USDr))\n",
        "  \n",
        "  sum = 0.0\n",
        "  \n",
        " \n",
        "\n",
        "  n=round(tenor*365/t)\n",
        "\n",
        "    \n",
        "  for i in range(numsim):\n",
        "\n",
        "    fwd=spot\n",
        "    \n",
        "    for j in range(n):\n",
        "      fwd = fwd * math.exp((rate - (vol * vol) / 2) * (t/365) + vol * math.sqrt(t/365) * np.random.normal(loc=0,scale=1.0,size=None))\n",
        "\n",
        "   \n",
        "  if fwd > strike:\n",
        "    payoff= fix\n",
        "  \n",
        "  else:\n",
        "    payoff=0\n",
        "\n",
        "  sum=sum+payoff\n",
        "\n",
        "  Dig_Call=100*(sum / numsim) * math.exp(-rate * tenor)\n",
        "\n",
        " \n",
        "  sum = 0\n",
        "  \n",
        "  for i in range(numsim):\n",
        "\n",
        "    fwd=spot\n",
        "    \n",
        "    for j in range(n):\n",
        "      fwd = fwd * math.exp((rate - (vol * vol) / 2) * (t/365) + vol * math.sqrt(t/365) * np.random.normal(loc=0,scale=1.0,size=None))\n",
        "\n",
        "   \n",
        "  if fwd < strike:\n",
        "    payoff = fix\n",
        "  \n",
        "  else:\n",
        "    payoff=0\n",
        "\n",
        "  sum=sum+payoff\n",
        "\n",
        "  Dig_Put=100*(sum / numsim) * math.exp(-rate * tenor)\n",
        "\n",
        "\n",
        "         \n",
        "  return Dig_Call,Dig_Put"
      ],
      "execution_count": 6,
      "outputs": []
    },
    {
      "cell_type": "code",
      "metadata": {
        "colab": {
          "base_uri": "https://localhost:8080/"
        },
        "id": "OX3Y4zH40rBs",
        "outputId": "c0b46445-b5f5-4346-a26f-593f2f273c01"
      },
      "source": [
        "print(Dig(77,73,3,0.05,0.0002,0.005,1,1000,4))"
      ],
      "execution_count": 7,
      "outputs": [
        {
          "output_type": "stream",
          "text": [
            "(0.34573256324893814, 0.0)\n"
          ],
          "name": "stdout"
        }
      ]
    }
  ]
}