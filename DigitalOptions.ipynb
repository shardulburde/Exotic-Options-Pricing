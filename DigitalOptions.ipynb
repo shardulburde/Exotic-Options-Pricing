{
  "nbformat": 4,
  "nbformat_minor": 0,
  "metadata": {
    "colab": {
      "name": "DigitalOptions.ipynb",
      "provenance": [],
      "collapsed_sections": [],
      "mount_file_id": "1pniQgI2Gx7oQurVlGHx53mvxGsVj-_90",
      "authorship_tag": "ABX9TyORSdC//WObOm80E3HUao5w",
      "include_colab_link": true
    },
    "kernelspec": {
      "name": "python3",
      "display_name": "Python 3"
    },
    "language_info": {
      "name": "python"
    }
  },
  "cells": [
    {
      "cell_type": "markdown",
      "metadata": {
        "id": "view-in-github",
        "colab_type": "text"
      },
      "source": [
        "<a href=\"https://colab.research.google.com/github/shardulburde/Exotic-Options-Pricing/blob/main/DigitalOptions.ipynb\" target=\"_parent\"><img src=\"https://colab.research.google.com/assets/colab-badge.svg\" alt=\"Open In Colab\"/></a>"
      ]
    },
    {
      "cell_type": "code",
      "metadata": {
        "id": "5hKGPESgOvoC"
      },
      "source": [
        "#Reading Excel Data\n",
        "#Excel sheet link in next comment\n",
        "#https://drive.google.com/file/d/1UXq6kIWAaGUmzk41B4ReCg5L_k_vBtas/view?usp=sharing\n",
        "\n",
        "import pandas as pd\n",
        "xls = pd.ExcelFile('/content/drive/MyDrive/IndusInd/Exotic Options.xlsx')\n",
        "df = pd.read_excel(xls, 'DigitalData')\n",
        "df1 = pd.read_excel(xls, 'MktData')"
      ],
      "execution_count": 61,
      "outputs": []
    },
    {
      "cell_type": "code",
      "metadata": {
        "colab": {
          "base_uri": "https://localhost:8080/",
          "height": 514
        },
        "id": "QSBpMPXuPKKh",
        "outputId": "c0926392-c288-4d02-b11e-5e515967f6ef"
      },
      "source": [
        "df"
      ],
      "execution_count": 62,
      "outputs": [
        {
          "output_type": "execute_result",
          "data": {
            "text/html": [
              "<div>\n",
              "<style scoped>\n",
              "    .dataframe tbody tr th:only-of-type {\n",
              "        vertical-align: middle;\n",
              "    }\n",
              "\n",
              "    .dataframe tbody tr th {\n",
              "        vertical-align: top;\n",
              "    }\n",
              "\n",
              "    .dataframe thead th {\n",
              "        text-align: right;\n",
              "    }\n",
              "</style>\n",
              "<table border=\"1\" class=\"dataframe\">\n",
              "  <thead>\n",
              "    <tr style=\"text-align: right;\">\n",
              "      <th></th>\n",
              "      <th>Unnamed: 0</th>\n",
              "      <th>Inputs</th>\n",
              "      <th>Unnamed: 2</th>\n",
              "    </tr>\n",
              "  </thead>\n",
              "  <tbody>\n",
              "    <tr>\n",
              "      <th>0</th>\n",
              "      <td>Strike</td>\n",
              "      <td>74</td>\n",
              "      <td>NaN</td>\n",
              "    </tr>\n",
              "    <tr>\n",
              "      <th>1</th>\n",
              "      <td>Spot</td>\n",
              "      <td>73.32</td>\n",
              "      <td>NaN</td>\n",
              "    </tr>\n",
              "    <tr>\n",
              "      <th>2</th>\n",
              "      <td>Fixed Payoff</td>\n",
              "      <td>75</td>\n",
              "      <td>NaN</td>\n",
              "    </tr>\n",
              "    <tr>\n",
              "      <th>3</th>\n",
              "      <td>Start Date</td>\n",
              "      <td>2021-06-21 00:00:00</td>\n",
              "      <td>NaN</td>\n",
              "    </tr>\n",
              "    <tr>\n",
              "      <th>4</th>\n",
              "      <td>End Date</td>\n",
              "      <td>2022-06-21 00:00:00</td>\n",
              "      <td>NaN</td>\n",
              "    </tr>\n",
              "    <tr>\n",
              "      <th>5</th>\n",
              "      <td>Tenor(days)</td>\n",
              "      <td>365</td>\n",
              "      <td>NaN</td>\n",
              "    </tr>\n",
              "    <tr>\n",
              "      <th>6</th>\n",
              "      <td>Tenor(years)</td>\n",
              "      <td>1</td>\n",
              "      <td>NaN</td>\n",
              "    </tr>\n",
              "    <tr>\n",
              "      <th>7</th>\n",
              "      <td>INR Rate(%)</td>\n",
              "      <td>0.0425</td>\n",
              "      <td>NaN</td>\n",
              "    </tr>\n",
              "    <tr>\n",
              "      <th>8</th>\n",
              "      <td>USD Rate(%)</td>\n",
              "      <td>0.002</td>\n",
              "      <td>NaN</td>\n",
              "    </tr>\n",
              "    <tr>\n",
              "      <th>9</th>\n",
              "      <td>Forward</td>\n",
              "      <td>76.3504</td>\n",
              "      <td>NaN</td>\n",
              "    </tr>\n",
              "    <tr>\n",
              "      <th>10</th>\n",
              "      <td>Vol(%)</td>\n",
              "      <td>0.0575</td>\n",
              "      <td>NaN</td>\n",
              "    </tr>\n",
              "    <tr>\n",
              "      <th>11</th>\n",
              "      <td>TimeStep(days)</td>\n",
              "      <td>1</td>\n",
              "      <td>NaN</td>\n",
              "    </tr>\n",
              "    <tr>\n",
              "      <th>12</th>\n",
              "      <td>NumSim</td>\n",
              "      <td>1000</td>\n",
              "      <td>NaN</td>\n",
              "    </tr>\n",
              "    <tr>\n",
              "      <th>13</th>\n",
              "      <td>NaN</td>\n",
              "      <td>NaN</td>\n",
              "      <td>NaN</td>\n",
              "    </tr>\n",
              "    <tr>\n",
              "      <th>14</th>\n",
              "      <td>Enter 0 vol if lookup is to be performed</td>\n",
              "      <td>NaN</td>\n",
              "      <td>NaN</td>\n",
              "    </tr>\n",
              "  </tbody>\n",
              "</table>\n",
              "</div>"
            ],
            "text/plain": [
              "                                  Unnamed: 0               Inputs  Unnamed: 2\n",
              "0                                    Strike                    74         NaN\n",
              "1                                       Spot                73.32         NaN\n",
              "2                               Fixed Payoff                   75         NaN\n",
              "3                                 Start Date  2021-06-21 00:00:00         NaN\n",
              "4                                   End Date  2022-06-21 00:00:00         NaN\n",
              "5                                Tenor(days)                  365         NaN\n",
              "6                               Tenor(years)                    1         NaN\n",
              "7                                INR Rate(%)               0.0425         NaN\n",
              "8                                USD Rate(%)                0.002         NaN\n",
              "9                                    Forward              76.3504         NaN\n",
              "10                                    Vol(%)               0.0575         NaN\n",
              "11                            TimeStep(days)                    1         NaN\n",
              "12                                    NumSim                 1000         NaN\n",
              "13                                       NaN                  NaN         NaN\n",
              "14  Enter 0 vol if lookup is to be performed                  NaN         NaN"
            ]
          },
          "metadata": {
            "tags": []
          },
          "execution_count": 62
        }
      ]
    },
    {
      "cell_type": "code",
      "metadata": {
        "id": "tUSqQIboPYpo"
      },
      "source": [
        "#Interpolating Market Vol Data\n",
        "from scipy import interpolate\n",
        "\n",
        "def atm(tenor):\n",
        "\n",
        "  x_points=pd.DataFrame([])   \n",
        "  y_points=pd.DataFrame([])  \n",
        "\n",
        "  for i in range(19):\n",
        "    x=pd.DataFrame([df1._get_value(i+1,1,True)])\n",
        "    y=pd.DataFrame([df1._get_value(i+1,4,True)])\n",
        "    x_points=x_points.append(x, ignore_index = True)\n",
        "    y_points=y_points.append(y, ignore_index = True)\n",
        "      \n",
        "  tck = interpolate.splrep(x_points, y_points)\n",
        "  return interpolate.splev(tenor, tck)\n",
        "\n",
        "def rr25d(tenor):\n",
        "\n",
        "  x_points=pd.DataFrame([])   \n",
        "  y_points=pd.DataFrame([])  \n",
        "\n",
        "  for i in range(19):\n",
        "    x=pd.DataFrame([df1._get_value(i+1,1,True)])\n",
        "    y=pd.DataFrame([df1._get_value(i+1,7,True)])\n",
        "    x_points=x_points.append(x, ignore_index = True)\n",
        "    y_points=y_points.append(y, ignore_index = True)\n",
        "      \n",
        "  tck = interpolate.splrep(x_points, y_points)\n",
        "  return interpolate.splev(tenor, tck)\n",
        "\n",
        "def fly25d(tenor):\n",
        "\n",
        "  x_points=pd.DataFrame([])   \n",
        "  y_points=pd.DataFrame([])  \n",
        "\n",
        "  for i in range(19):\n",
        "    x=pd.DataFrame([df1._get_value(i+1,1,True)])\n",
        "    y=pd.DataFrame([df1._get_value(i+1,10,True)])\n",
        "    x_points=x_points.append(x, ignore_index = True)\n",
        "    y_points=y_points.append(y, ignore_index = True)\n",
        "      \n",
        "  tck = interpolate.splrep(x_points, y_points)\n",
        "  return interpolate.splev(tenor, tck)\n",
        "\n",
        "\n",
        "def rr10d(tenor):\n",
        "\n",
        "  x_points=pd.DataFrame([])   \n",
        "  y_points=pd.DataFrame([])  \n",
        "\n",
        "  for i in range(19):\n",
        "    x=pd.DataFrame([df1._get_value(i+1,1,True)])\n",
        "    y=pd.DataFrame([df1._get_value(i+1,13,True)])\n",
        "    x_points=x_points.append(x, ignore_index = True)\n",
        "    y_points=y_points.append(y, ignore_index = True)\n",
        "\n",
        "  tck = interpolate.splrep(x_points, y_points)\n",
        "  return interpolate.splev(tenor, tck)\n",
        "      \n",
        "\n",
        "def fly10d(tenor):\n",
        "\n",
        "  x_points=pd.DataFrame([])   \n",
        "  y_points=pd.DataFrame([])  \n",
        "\n",
        "  for i in range(19):\n",
        "    x=pd.DataFrame([df1._get_value(i+1,1,True)])\n",
        "    y=pd.DataFrame([df1._get_value(i+1,16,True)])\n",
        "    x_points=x_points.append(x, ignore_index = True)\n",
        "    y_points=y_points.append(y, ignore_index = True)\n",
        "    \n",
        "  tck = interpolate.splrep(x_points, y_points)\n",
        "  return interpolate.splev(tenor, tck)"
      ],
      "execution_count": 63,
      "outputs": []
    },
    {
      "cell_type": "code",
      "metadata": {
        "id": "PyXZukFUPquA"
      },
      "source": [
        "#Making Call Delta functions that return vol for given tenor from mkt data\n",
        "\n",
        "def d10(tenor):\n",
        "  vol=atm(tenor)+fly10d(tenor)+rr10d(tenor)/2\n",
        "\n",
        "  return vol\n",
        "\n",
        "def d25(tenor):\n",
        "  vol=atm(tenor)+fly25d(tenor)+rr25d(tenor)/2\n",
        "\n",
        "  return vol\n",
        "\n",
        "def d75(tenor):\n",
        "  vol=atm(tenor)+fly25d(tenor)-rr25d(tenor)/2\n",
        "\n",
        "  return vol\n",
        "\n",
        "def d90(tenor):\n",
        "  vol=atm(tenor)+fly10d(tenor)-rr10d(tenor)/2\n",
        "\n",
        "  return vol"
      ],
      "execution_count": 64,
      "outputs": []
    },
    {
      "cell_type": "code",
      "metadata": {
        "colab": {
          "base_uri": "https://localhost:8080/"
        },
        "id": "m3f-2BKyPtXp",
        "outputId": "424eb64d-6fd2-4b96-f1d5-8e61e38f3928"
      },
      "source": [
        "#Interpolation for vol for tenor b/w 0.1, 0.25, 0.5, 0.75 and 0.9 call delta\n",
        "\n",
        "from scipy import interpolate\n",
        "\n",
        "def vol(delta,tenor):\n",
        "\n",
        "  y1=d10(tenor)\n",
        "  y2=d25(tenor)\n",
        "  y3=atm(tenor)\n",
        "  y4=d75(tenor)\n",
        "  y5=d90(tenor)\n",
        "\n",
        "  x_points = [0.1, 0.25, 0.5, 0.75, 0.9]\n",
        "  y_points = [y1,y2,y3,y4,y5]\n",
        "\n",
        "  tck = interpolate.splrep(x_points, y_points)\n",
        "  return float(interpolate.splev(delta, tck))\n",
        "\n",
        "vol(0.1,1)"
      ],
      "execution_count": 65,
      "outputs": [
        {
          "output_type": "execute_result",
          "data": {
            "text/plain": [
              "0.07722499999999997"
            ]
          },
          "metadata": {
            "tags": []
          },
          "execution_count": 65
        }
      ]
    },
    {
      "cell_type": "code",
      "metadata": {
        "colab": {
          "base_uri": "https://localhost:8080/"
        },
        "id": "BPOdhfmKQRpP",
        "outputId": "8d2acc63-a7fd-4e62-c7f3-b86ba131c674"
      },
      "source": [
        "#Making Vol Lookup Function\n",
        "\n",
        "import numpy as np\n",
        "import math\n",
        "import scipy\n",
        "from scipy.stats import norm\n",
        "\n",
        "#Vol for\n",
        "def VolDig():\n",
        "  \n",
        "  tenor=df._get_value(6,1,True)\n",
        "  rate=df._get_value(7,1,True)-df._get_value(8,1,True)\n",
        "  strike=df._get_value(0,1,True)\n",
        "  spot=df._get_value(1,1,True)\n",
        "\n",
        "  \n",
        "  v = atm(tenor)\n",
        "    \n",
        "  for i in range(5):\n",
        "    d=(np.log(spot/strike)+(rate-v*v/2)*tenor)/(v*math.sqrt(tenor))\n",
        "    delta=scipy.stats.norm.cdf(d) \n",
        "    v=vol(delta,tenor) \n",
        "\n",
        "  return v\n",
        "\n",
        "x=VolDig()\n",
        "print(x)\n",
        "  "
      ],
      "execution_count": 66,
      "outputs": [
        {
          "output_type": "stream",
          "text": [
            "0.058202872707501525\n"
          ],
          "name": "stdout"
        }
      ]
    },
    {
      "cell_type": "code",
      "metadata": {
        "id": "mNag36yYcSYe"
      },
      "source": [
        "import numpy as np\n",
        "import math\n",
        "#Making Digital Option Pricing Function\n",
        "\n",
        "def Dig(strike, spot, tenor, INRr, USDr, vol, t, numsim, fix):\n",
        "  \n",
        "  \n",
        "  rate = INRr-USDr\n",
        "  \n",
        "  sum = 0.0\n",
        "  \n",
        "  if vol==0:\n",
        "    vol=Vol()\n",
        "  else:\n",
        "    vol=vol\n",
        "\n",
        "  n=round(tenor*365/t)\n",
        "\n",
        "    \n",
        "  for i in range(numsim):\n",
        "\n",
        "    fwd=spot\n",
        "    \n",
        "    for j in range(n):\n",
        "      fwd = fwd * math.exp((rate - (vol * vol) / 2) * (t/365) + vol * math.sqrt(t/365) * np.random.normal(loc=0,scale=1.0,size=None))\n",
        "\n",
        "   \n",
        "    if fwd > strike:\n",
        "     payoff= fix\n",
        "  \n",
        "    else:\n",
        "      payoff=0\n",
        "\n",
        "    sum = sum + payoff\n",
        "\n",
        "  Dig_Call=100*(sum / numsim) * math.exp(-rate * tenor)\n",
        "\n",
        " \n",
        "  #PUT\n",
        "\n",
        "  sum = 0\n",
        "  \n",
        "  for i in range(numsim):\n",
        "  \n",
        "    fwd=spot\n",
        "    \n",
        "    for j in range(n):\n",
        "      fwd = fwd * math.exp((rate - (vol * vol) / 2) * (t/365) + vol * math.sqrt(t/365) * np.random.normal(loc=0,scale=1.0,size=None))\n",
        "\n",
        "   \n",
        "    if fwd < strike:\n",
        "      payoff = fix\n",
        "  \n",
        "    else:\n",
        "      payoff=0\n",
        "\n",
        "    sum=sum+payoff\n",
        "\n",
        "  Dig_Put=100*(sum / numsim) * math.exp(-rate * tenor)\n",
        "\n",
        "\n",
        "         \n",
        "  return Dig_Call,Dig_Put"
      ],
      "execution_count": 67,
      "outputs": []
    },
    {
      "cell_type": "code",
      "metadata": {
        "colab": {
          "base_uri": "https://localhost:8080/"
        },
        "id": "dJ9-P7ghcdtC",
        "outputId": "0d488033-6c3b-4f1b-8f11-08c9afe8e11c"
      },
      "source": [
        "print('Call and Put Price of Digital Option is',Dig(df._get_value(0,1,True),df._get_value(1,1,True),df._get_value(6,1,True),df._get_value(7,1,True),df._get_value(8,1,True),df._get_value(10,1,True),df._get_value(11,1,True),int(df._get_value(12,1,True)),df._get_value(2,1,True)))"
      ],
      "execution_count": 68,
      "outputs": [
        {
          "output_type": "stream",
          "text": [
            "Call and Put Price of Digital Option is (5092.039344821767, 2045.4585204093098)\n"
          ],
          "name": "stdout"
        }
      ]
    }
  ]
}