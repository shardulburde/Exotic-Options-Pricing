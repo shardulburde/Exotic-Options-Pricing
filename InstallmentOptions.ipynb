{
  "nbformat": 4,
  "nbformat_minor": 0,
  "metadata": {
    "colab": {
      "name": "InstallmentOptions.ipynb",
      "provenance": [],
      "mount_file_id": "1XkcWQxoI_u6jHvpSyg-hPyinqzgSHAqS",
      "authorship_tag": "ABX9TyNg0FIzLLqZjqlezulYO/rG",
      "include_colab_link": true
    },
    "kernelspec": {
      "name": "python3",
      "display_name": "Python 3"
    },
    "language_info": {
      "name": "python"
    }
  },
  "cells": [
    {
      "cell_type": "markdown",
      "metadata": {
        "id": "view-in-github",
        "colab_type": "text"
      },
      "source": [
        "<a href=\"https://colab.research.google.com/github/shardulburde/Exotic-Options-Pricing/blob/main/InstallmentOptions.ipynb\" target=\"_parent\"><img src=\"https://colab.research.google.com/assets/colab-badge.svg\" alt=\"Open In Colab\"/></a>"
      ]
    },
    {
      "cell_type": "code",
      "metadata": {
        "id": "Un7AQNhI_XwS"
      },
      "source": [
        "#Reading Excel Data\n",
        "#Excel sheet link in next comment\n",
        "#https://drive.google.com/file/d/1UXq6kIWAaGUmzk41B4ReCg5L_k_vBtas/view?usp=sharing\n",
        "\n",
        "import pandas as pd\n",
        "xls = pd.ExcelFile('/content/drive/MyDrive/IndusInd/Exotic Options.xlsx')\n",
        "df1 = pd.read_excel(xls, 'MktData')\n",
        "df=pd.read_excel(xls, 'INR_DF')"
      ],
      "execution_count": 371,
      "outputs": []
    },
    {
      "cell_type": "code",
      "metadata": {
        "colab": {
          "base_uri": "https://localhost:8080/",
          "height": 514
        },
        "id": "LqA3Qos9gJG8",
        "outputId": "61882145-5e31-45ec-8651-6e30245c9501"
      },
      "source": [
        "df"
      ],
      "execution_count": 372,
      "outputs": [
        {
          "output_type": "execute_result",
          "data": {
            "text/html": [
              "<div>\n",
              "<style scoped>\n",
              "    .dataframe tbody tr th:only-of-type {\n",
              "        vertical-align: middle;\n",
              "    }\n",
              "\n",
              "    .dataframe tbody tr th {\n",
              "        vertical-align: top;\n",
              "    }\n",
              "\n",
              "    .dataframe thead th {\n",
              "        text-align: right;\n",
              "    }\n",
              "</style>\n",
              "<table border=\"1\" class=\"dataframe\">\n",
              "  <thead>\n",
              "    <tr style=\"text-align: right;\">\n",
              "      <th></th>\n",
              "      <th>Tenor</th>\n",
              "      <th>DCF</th>\n",
              "      <th>Discount</th>\n",
              "    </tr>\n",
              "  </thead>\n",
              "  <tbody>\n",
              "    <tr>\n",
              "      <th>0</th>\n",
              "      <td>Spot</td>\n",
              "      <td>0.000000</td>\n",
              "      <td>1.000000</td>\n",
              "    </tr>\n",
              "    <tr>\n",
              "      <th>1</th>\n",
              "      <td>1M</td>\n",
              "      <td>0.083333</td>\n",
              "      <td>0.995518</td>\n",
              "    </tr>\n",
              "    <tr>\n",
              "      <th>2</th>\n",
              "      <td>2M</td>\n",
              "      <td>0.166667</td>\n",
              "      <td>0.991318</td>\n",
              "    </tr>\n",
              "    <tr>\n",
              "      <th>3</th>\n",
              "      <td>3M</td>\n",
              "      <td>0.250000</td>\n",
              "      <td>0.986878</td>\n",
              "    </tr>\n",
              "    <tr>\n",
              "      <th>4</th>\n",
              "      <td>6M</td>\n",
              "      <td>0.500000</td>\n",
              "      <td>0.974541</td>\n",
              "    </tr>\n",
              "    <tr>\n",
              "      <th>5</th>\n",
              "      <td>1Y</td>\n",
              "      <td>1.000000</td>\n",
              "      <td>0.949845</td>\n",
              "    </tr>\n",
              "    <tr>\n",
              "      <th>6</th>\n",
              "      <td>2Y</td>\n",
              "      <td>2.000000</td>\n",
              "      <td>0.903240</td>\n",
              "    </tr>\n",
              "    <tr>\n",
              "      <th>7</th>\n",
              "      <td>3Y</td>\n",
              "      <td>3.000000</td>\n",
              "      <td>0.853836</td>\n",
              "    </tr>\n",
              "    <tr>\n",
              "      <th>8</th>\n",
              "      <td>4Y</td>\n",
              "      <td>4.000000</td>\n",
              "      <td>0.806388</td>\n",
              "    </tr>\n",
              "    <tr>\n",
              "      <th>9</th>\n",
              "      <td>5Y</td>\n",
              "      <td>5.000000</td>\n",
              "      <td>0.756827</td>\n",
              "    </tr>\n",
              "    <tr>\n",
              "      <th>10</th>\n",
              "      <td>6Y</td>\n",
              "      <td>6.000000</td>\n",
              "      <td>0.707170</td>\n",
              "    </tr>\n",
              "    <tr>\n",
              "      <th>11</th>\n",
              "      <td>7Y</td>\n",
              "      <td>7.000000</td>\n",
              "      <td>0.660628</td>\n",
              "    </tr>\n",
              "    <tr>\n",
              "      <th>12</th>\n",
              "      <td>8Y</td>\n",
              "      <td>8.000000</td>\n",
              "      <td>0.617449</td>\n",
              "    </tr>\n",
              "    <tr>\n",
              "      <th>13</th>\n",
              "      <td>9Y</td>\n",
              "      <td>9.000000</td>\n",
              "      <td>0.577059</td>\n",
              "    </tr>\n",
              "    <tr>\n",
              "      <th>14</th>\n",
              "      <td>10Y</td>\n",
              "      <td>10.000000</td>\n",
              "      <td>0.539382</td>\n",
              "    </tr>\n",
              "  </tbody>\n",
              "</table>\n",
              "</div>"
            ],
            "text/plain": [
              "   Tenor        DCF  Discount\n",
              "0   Spot   0.000000  1.000000\n",
              "1     1M   0.083333  0.995518\n",
              "2     2M   0.166667  0.991318\n",
              "3     3M   0.250000  0.986878\n",
              "4     6M   0.500000  0.974541\n",
              "5     1Y   1.000000  0.949845\n",
              "6     2Y   2.000000  0.903240\n",
              "7     3Y   3.000000  0.853836\n",
              "8     4Y   4.000000  0.806388\n",
              "9     5Y   5.000000  0.756827\n",
              "10    6Y   6.000000  0.707170\n",
              "11    7Y   7.000000  0.660628\n",
              "12    8Y   8.000000  0.617449\n",
              "13    9Y   9.000000  0.577059\n",
              "14   10Y  10.000000  0.539382"
            ]
          },
          "metadata": {
            "tags": []
          },
          "execution_count": 372
        }
      ]
    },
    {
      "cell_type": "code",
      "metadata": {
        "colab": {
          "base_uri": "https://localhost:8080/"
        },
        "id": "1oDPsRwVgVE4",
        "outputId": "fe295944-2722-419c-9dad-319e52c8f5d6"
      },
      "source": [
        "#Interpolating MIFOR Discount Factors\n",
        "from scipy import interpolate\n",
        "\n",
        "def disc_fac(tenor):\n",
        "\n",
        "  x_points=pd.DataFrame([])   \n",
        "  y_points=pd.DataFrame([])  \n",
        "\n",
        "  for i in range(13):\n",
        "    x=pd.DataFrame([df._get_value(i+1,1,True)])\n",
        "    y=pd.DataFrame([df._get_value(i+1,2,True)])\n",
        "    x_points=x_points.append(x, ignore_index = True)\n",
        "    y_points=y_points.append(y, ignore_index = True)\n",
        "      \n",
        "  tck = interpolate.splrep(x_points, y_points)\n",
        "  return float(interpolate.splev(tenor, tck))\n",
        "\n",
        "disc_fac(0)"
      ],
      "execution_count": 373,
      "outputs": [
        {
          "output_type": "execute_result",
          "data": {
            "text/plain": [
              "0.9989339856526179"
            ]
          },
          "metadata": {
            "tags": []
          },
          "execution_count": 373
        }
      ]
    },
    {
      "cell_type": "code",
      "metadata": {
        "id": "Mwrl0fBihrxl"
      },
      "source": [
        "import numpy as np\n",
        "\n",
        "def discount(factors,i):\n",
        "  value=factors[i+1]/factors[i]\n",
        "  return value\n",
        "\n"
      ],
      "execution_count": 388,
      "outputs": []
    },
    {
      "cell_type": "code",
      "metadata": {
        "id": "66Se_gV8_bP6"
      },
      "source": [
        "#Interpolating Market Vol Data\n",
        "from scipy import interpolate\n",
        "\n",
        "def atm(tenor):\n",
        "\n",
        "  x_points=pd.DataFrame([])   \n",
        "  y_points=pd.DataFrame([])  \n",
        "\n",
        "  for i in range(19):\n",
        "    x=pd.DataFrame([df1._get_value(i+1,1,True)])\n",
        "    y=pd.DataFrame([df1._get_value(i+1,4,True)])\n",
        "    x_points=x_points.append(x, ignore_index = True)\n",
        "    y_points=y_points.append(y, ignore_index = True)\n",
        "      \n",
        "  tck = interpolate.splrep(x_points, y_points)\n",
        "  return interpolate.splev(tenor, tck)\n",
        "\n",
        "def rr25d(tenor):\n",
        "\n",
        "  x_points=pd.DataFrame([])   \n",
        "  y_points=pd.DataFrame([])  \n",
        "\n",
        "  for i in range(19):\n",
        "    x=pd.DataFrame([df1._get_value(i+1,1,True)])\n",
        "    y=pd.DataFrame([df1._get_value(i+1,7,True)])\n",
        "    x_points=x_points.append(x, ignore_index = True)\n",
        "    y_points=y_points.append(y, ignore_index = True)\n",
        "      \n",
        "  tck = interpolate.splrep(x_points, y_points)\n",
        "  return interpolate.splev(tenor, tck)\n",
        "\n",
        "def fly25d(tenor):\n",
        "\n",
        "  x_points=pd.DataFrame([])   \n",
        "  y_points=pd.DataFrame([])  \n",
        "\n",
        "  for i in range(19):\n",
        "    x=pd.DataFrame([df1._get_value(i+1,1,True)])\n",
        "    y=pd.DataFrame([df1._get_value(i+1,10,True)])\n",
        "    x_points=x_points.append(x, ignore_index = True)\n",
        "    y_points=y_points.append(y, ignore_index = True)\n",
        "      \n",
        "  tck = interpolate.splrep(x_points, y_points)\n",
        "  return interpolate.splev(tenor, tck)\n",
        "\n",
        "\n",
        "def rr10d(tenor):\n",
        "\n",
        "  x_points=pd.DataFrame([])   \n",
        "  y_points=pd.DataFrame([])  \n",
        "\n",
        "  for i in range(19):\n",
        "    x=pd.DataFrame([df1._get_value(i+1,1,True)])\n",
        "    y=pd.DataFrame([df1._get_value(i+1,13,True)])\n",
        "    x_points=x_points.append(x, ignore_index = True)\n",
        "    y_points=y_points.append(y, ignore_index = True)\n",
        "\n",
        "  tck = interpolate.splrep(x_points, y_points)\n",
        "  return interpolate.splev(tenor, tck)\n",
        "      \n",
        "\n",
        "def fly10d(tenor):\n",
        "\n",
        "  x_points=pd.DataFrame([])   \n",
        "  y_points=pd.DataFrame([])  \n",
        "\n",
        "  for i in range(19):\n",
        "    x=pd.DataFrame([df1._get_value(i+1,1,True)])\n",
        "    y=pd.DataFrame([df1._get_value(i+1,16,True)])\n",
        "    x_points=x_points.append(x, ignore_index = True)\n",
        "    y_points=y_points.append(y, ignore_index = True)\n",
        "    \n",
        "  tck = interpolate.splrep(x_points, y_points)\n",
        "  return interpolate.splev(tenor, tck)"
      ],
      "execution_count": 375,
      "outputs": []
    },
    {
      "cell_type": "code",
      "metadata": {
        "id": "rni2YYb-_d05"
      },
      "source": [
        "#Making Call Delta functions that return vol for given tenor from mkt data\n",
        "\n",
        "def d10(tenor):\n",
        "  vol=atm(tenor)+fly10d(tenor)+rr10d(tenor)/2\n",
        "\n",
        "  return vol\n",
        "\n",
        "def d25(tenor):\n",
        "  vol=atm(tenor)+fly25d(tenor)+rr25d(tenor)/2\n",
        "\n",
        "  return vol\n",
        "\n",
        "def d75(tenor):\n",
        "  vol=atm(tenor)+fly25d(tenor)-rr25d(tenor)/2\n",
        "\n",
        "  return vol\n",
        "\n",
        "def d90(tenor):\n",
        "  vol=atm(tenor)+fly10d(tenor)-rr10d(tenor)/2\n",
        "\n",
        "  return vol"
      ],
      "execution_count": 376,
      "outputs": []
    },
    {
      "cell_type": "code",
      "metadata": {
        "colab": {
          "base_uri": "https://localhost:8080/"
        },
        "id": "iGmcNdeT_gsU",
        "outputId": "4d3837f5-0140-4b59-8ca1-4d03c2c540a3"
      },
      "source": [
        "#Interpolation for vol for tenor b/w 0.1, 0.25, 0.5, 0.75 and 0.9 call delta\n",
        "\n",
        "from scipy import interpolate\n",
        "\n",
        "def vol(delta,tenor):\n",
        "\n",
        "  y1=d10(tenor)\n",
        "  y2=d25(tenor)\n",
        "  y3=atm(tenor)\n",
        "  y4=d75(tenor)\n",
        "  y5=d90(tenor)\n",
        "\n",
        "  x_points = [0.1, 0.25, 0.5, 0.75, 0.9]\n",
        "  y_points = [y1,y2,y3,y4,y5]\n",
        "\n",
        "  tck = interpolate.splrep(x_points, y_points)\n",
        "  return float(interpolate.splev(delta, tck))\n",
        "\n",
        "vol(0.1,1)\n"
      ],
      "execution_count": 377,
      "outputs": [
        {
          "output_type": "execute_result",
          "data": {
            "text/plain": [
              "0.08452500000000002"
            ]
          },
          "metadata": {
            "tags": []
          },
          "execution_count": 377
        }
      ]
    },
    {
      "cell_type": "code",
      "metadata": {
        "colab": {
          "base_uri": "https://localhost:8080/"
        },
        "id": "8n9rH5dZ_kpv",
        "outputId": "9623621b-eb29-4741-e305-ab95a60324b3"
      },
      "source": [
        "#Making Vol Lookup Function\n",
        "\n",
        "import numpy as np\n",
        "import math\n",
        "import scipy\n",
        "from scipy.stats import norm\n",
        "\n",
        "\n",
        "def sigma(strike,spot,tenor,rate):\n",
        "  \n",
        "  v = atm(tenor)\n",
        "    \n",
        "  for i in range(4):\n",
        "    d=(np.log(spot/strike)+(rate-v*v/2)*tenor)/(v*math.sqrt(tenor))\n",
        "    delta=scipy.stats.norm.cdf(d) \n",
        "    v=vol(delta,tenor) \n",
        "\n",
        "  return v\n",
        "\n",
        "sigma(80,74,2,0.05)\n"
      ],
      "execution_count": 378,
      "outputs": [
        {
          "output_type": "execute_result",
          "data": {
            "text/plain": [
              "0.05694212636585169"
            ]
          },
          "metadata": {
            "tags": []
          },
          "execution_count": 378
        }
      ]
    },
    {
      "cell_type": "code",
      "metadata": {
        "id": "ZJHvq4jvXTbu"
      },
      "source": [
        "import numpy as np\n",
        "def v(p1,strike,fwd,tenor,rate,n,i,factors):\n",
        "\n",
        "  V=np.empty([1,n+1],dtype=float) \n",
        "  V[0,n]=max(0,fwd-strike)\n",
        "  for k in range(n):\n",
        "    l=n-1-k\n",
        "    V[0,l]=max(0,discount(factors,l)*V[0,l+1]-p1)\n",
        "\n",
        "  value=float(V[0,i])\n",
        "  return value \n",
        "\n",
        "def g1(p1,strike,fwd,tenor,rate,n,p0,factors):\n",
        "  value=v(p1,strike,fwd,tenor,rate,n,1,factors)-p0\n",
        "  return value\n",
        "\n",
        "def g2(p1,strike,fwd,tenor,rate,n,factors):\n",
        "  value=v(p1,strike,fwd,tenor,rate,n,1,factors)-p1\n",
        "  return value\n",
        "\n",
        "\n"
      ],
      "execution_count": 379,
      "outputs": []
    },
    {
      "cell_type": "code",
      "metadata": {
        "id": "NrEjGn2z0uGG"
      },
      "source": [
        "import math\n",
        "import numpy as np\n",
        "\n",
        "\n",
        "\n",
        "def f1(strike, spot, tenor, rate, volatility, t, n, numsim, p1,factors):\n",
        "  \n",
        "  volatility=volatility/100\n",
        "  \n",
        "  if volatility==0:\n",
        "    volatility=sigma(strike,spot,tenor,rate)\n",
        "   \n",
        "  sum = 0.0\n",
        "  it=round(tenor*365/t)\n",
        "  time=np.linspace(0.0,tenor,num=(n+1))\n",
        "  \n",
        "\n",
        "  for l in range(numsim):\n",
        "\n",
        "    fwd=spot\n",
        "    \n",
        "    for j in range(it):\n",
        "      fwd = fwd * math.exp((rate - (volatility * volatility) / 2) * (t/365) + volatility * math.sqrt(t/365) * np.random.normal(loc=0,scale=1.0,size=None))\n",
        "  \n",
        "    p0 = v(p1,strike,fwd,tenor,rate,n,1)*discount(factors,0)\n",
        "    sum = sum + p0\n",
        "    \n",
        "  avg_p0=(sum/numsim)\n",
        " \n",
        "  return avg_p0\n"
      ],
      "execution_count": 380,
      "outputs": []
    },
    {
      "cell_type": "code",
      "metadata": {
        "id": "xmw0BFY-4uQW"
      },
      "source": [
        "import math\n",
        "import numpy as np\n",
        "import scipy.optimize as opt\n",
        "\n",
        "def f2(strike, spot, tenor, rate, volatility, t, n, numsim, p0,factors):\n",
        "\n",
        "  volatility=volatility/100\n",
        "\n",
        "  if volatility==0:\n",
        "    volatility=sigma(strike,spot,tenor,rate)\n",
        " \n",
        "\n",
        "  sum = 0.0\n",
        "  it=round(tenor*365/t)\n",
        "  time=np.linspace(0.0,tenor, num=(n+1))\n",
        "  \n",
        "  p1=1\n",
        "  for l in range(numsim):\n",
        "    \n",
        "    fwd=spot\n",
        "    \n",
        "    for j in range(it):\n",
        "      fwd = fwd * math.exp((rate - (volatility * volatility) / 2) * (t/365) + volatility * math.sqrt(t/365) * np.random.normal(loc=0,scale=1.0,size=None))\n",
        " \n",
        "    \n",
        "    args=(strike,fwd,tenor,rate,n,p0,factors)\n",
        "    p1=float(opt.fsolve( g1, p1, args))\n",
        "    sum = sum + p1\n",
        "    \n",
        "\n",
        "  avg_p1=(sum/numsim)\n",
        " \n",
        "  return avg_p1\n"
      ],
      "execution_count": 381,
      "outputs": []
    },
    {
      "cell_type": "code",
      "metadata": {
        "id": "h2PW4A067Ixq"
      },
      "source": [
        "import math\n",
        "import numpy as np\n",
        "import scipy.optimize as opt\n",
        "\n",
        "def f3(strike, spot, tenor, rate, volatility, t, n, numsim,factors):\n",
        "\n",
        "  volatility=volatility/100\n",
        "\n",
        "  if volatility==0:\n",
        "    volatility=sigma(strike,spot,tenor,rate)\n",
        "  \n",
        "\n",
        "  sum = 0.0\n",
        "  Sum=0.0\n",
        "  it=round(tenor*365/t)\n",
        "  time=np.linspace(0.0,tenor, num=(n+1))\n",
        "  \n",
        "  p1=1\n",
        "  for l in range(numsim):\n",
        "    \n",
        "    fwd=spot\n",
        "    \n",
        "    for j in range(it):\n",
        "      fwd = fwd * math.exp((rate - (volatility * volatility) / 2) * (t/365) + volatility * math.sqrt(t/365) * np.random.normal(loc=0,scale=1.0,size=None))\n",
        " \n",
        "    BS=math.exp(-rate*tenor)*max(0,fwd-strike)/n\n",
        "    args=(strike,fwd,tenor,rate,n,factors)\n",
        "    p1=float(opt.fsolve( g2, p1, args))\n",
        "    sum = sum + p1\n",
        "    Sum=Sum+BS\n",
        "\n",
        "  avg_p1=(sum/numsim)\n",
        "  avg_BS=(Sum/numsim)\n",
        "  return avg_BS,avg_p1\n"
      ],
      "execution_count": 382,
      "outputs": []
    },
    {
      "cell_type": "code",
      "metadata": {
        "id": "1aVORiVa7ake"
      },
      "source": [
        "def function(strike,spot,tenor,rate,volatility,t,n,numsim,Option,factors):\n",
        "\n",
        "  if Option==1:\n",
        "    p1=float(input('Enter future constant installments(p1):'))\n",
        "    value1=f1(strike, spot, tenor, rate, volatility, t, n, numsim, p1,factors)\n",
        "    print('Input(p1):',p1,',Output(p0):',value1)\n",
        "\n",
        "  if Option==2:\n",
        "    p0=float(input('Enter initial amount(p0):'))\n",
        "    value2=f2(strike, spot, tenor, rate, volatility, t, n, numsim, p0,factors)\n",
        "    print('Input(p0):',p0,',Output(p1):',value2)\n",
        "\n",
        "  if Option==3:\n",
        "    value3=f3(strike, spot, tenor, rate, volatility, t, n, numsim,factors)\n",
        "    print('p_BS:',value3[0],',p0=p1=',value3[1])"
      ],
      "execution_count": 383,
      "outputs": []
    },
    {
      "cell_type": "markdown",
      "metadata": {
        "id": "KXbihOBO6vSN"
      },
      "source": [
        "Input Data\n",
        " down below, run it to check apt Forward\n"
      ]
    },
    {
      "cell_type": "code",
      "metadata": {
        "colab": {
          "base_uri": "https://localhost:8080/"
        },
        "id": "rXAHNRNJzIe8",
        "outputId": "c7d34afc-25ef-4149-bdd0-0d91062b0039"
      },
      "source": [
        "from datetime import date\n",
        "import math\n",
        "\n",
        "#(YYYY, MM, DD)\n",
        "start_date = date(2021, 7, 5)\n",
        "end_date = date(2022, 7, 5)\n",
        "num_days=(end_date-start_date).days\n",
        "Strike=75.5\n",
        "Spot=74.5\n",
        "Tenor=num_days/365\n",
        "INRr= 4.535             #Enter INR Rate in %\n",
        "USDr=  0.05             #Enter USD Rate in %\n",
        "Rate=(INRr-USDr)/100           \n",
        "Volatility=0     #Enter 0 if vol lookup is to be performed #Enter vol in %\n",
        "DelT=1\n",
        "n=4\n",
        "Numsim=1000\n",
        "\n",
        "\n",
        "\n",
        "time=np.linspace(0.0,tenor,num=n+1)\n",
        "factors=np.linspace(0.0,tenor,num=n+1)\n",
        "\n",
        "for k in range(n+1):\n",
        "  factors[k]=disc_fac(time[k])\n",
        "\n",
        "Fwd=Spot*math.exp(Rate*Tenor)\n",
        "print('Fwd=',Fwd)"
      ],
      "execution_count": 384,
      "outputs": [
        {
          "output_type": "stream",
          "text": [
            "Fwd= 77.9173870785232\n"
          ],
          "name": "stdout"
        }
      ]
    },
    {
      "cell_type": "code",
      "metadata": {
        "colab": {
          "base_uri": "https://localhost:8080/"
        },
        "id": "w302znuZRcwi",
        "outputId": "207085ef-6cc7-4d63-def1-0428c49cf998"
      },
      "source": [
        "import warnings\n",
        "warnings.filterwarnings('ignore', 'The iteration is not making good progress')\n",
        "\"\"\"\n",
        "Enter Respective Option Number\n",
        "\n",
        "Option 1: I/P: p1(future constant Installments),  O/P: p0(Initial amount to be paid) \n",
        "Option 2: I/P: p0(Initial amount to be paid),     O/P: p1(future constant Installments)\n",
        "Option 3: I/P: N/A                                O/P: p0 such that all payments are same(p0=p1)\n",
        "\n",
        "\"\"\"\n",
        "\n",
        "Option=3\n",
        "\n",
        "function(Strike,Spot,Tenor,Rate,Volatility,DelT,n,Numsim,Option,factors)\n"
      ],
      "execution_count": 385,
      "outputs": [
        {
          "output_type": "stream",
          "text": [
            "p_BS: 0.7912994536801189 ,p0=p1= 0.7816468705861954\n"
          ],
          "name": "stdout"
        }
      ]
    }
  ]
}